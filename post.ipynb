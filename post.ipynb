{
 "cells": [
  {
   "cell_type": "code",
   "execution_count": 17,
   "metadata": {},
   "outputs": [],
   "source": [
    "import os\n",
    "from modulus.sym.hydra import to_absolute_path\n",
    "from csv_rw import csv_to_dict\n",
    "import csv\n",
    "import numpy as np\n",
    "import glob"
   ]
  },
  {
   "cell_type": "code",
   "execution_count": 47,
   "metadata": {},
   "outputs": [],
   "source": [
    "def readFile(file_path):\n",
    "    with open(file_path, \"r\") as datafile:\n",
    "        data = []\n",
    "        reader = csv.reader(datafile, delimiter=\",\")\n",
    "        for row in reader:\n",
    "            columns = [row[1]]\n",
    "            data.append(columns)\n",
    "        last_row = float(data[-1][0])\n",
    "        return last_row"
   ]
  },
  {
   "cell_type": "code",
   "execution_count": 57,
   "metadata": {},
   "outputs": [],
   "source": [
    "ansysFilePath=\"./ansys.csv\"\n",
    "resultsFilePath=\"./results.csv\"\n",
    "monitorFilePath=\"./outputs/fwdFacingStep/dataFull/monitors\"\n",
    "with open(ansysFilePath, \"r\") as ansysFile,  open(resultsFilePath, \"w\") as resultsFile:\n",
    "        reader = csv.reader(ansysFile, delimiter=\",\")\n",
    "        writer = csv.writer(resultsFile, delimiter=\",\")\n",
    "        for i, row in enumerate(reader):\n",
    "                if i == 0:\n",
    "                        row.insert(5, \"Diff Delta Cp [%]\")\n",
    "                        row.insert(7, \"Diff Delta Cptot [%]\")\n",
    "                        writer.writerow(row)\n",
    "                else:\n",
    "                        row.insert(5, \"-\")\n",
    "                        row.insert(7, \"-\")\n",
    "                        writer.writerow(row)\n",
    "                        filePattern=\"downstreamPressure_\" + row[0].replace(\" \",\"\") + \"_*\"\n",
    "                        monitorFile=glob.glob(os.path.join(monitorFilePath, filePattern))\n",
    "                        DSP=readFile(monitorFile[0])\n",
    "                        filePattern=\"downstreamPressureTot_\" + row[0].replace(\" \",\"\") + \"_*\"\n",
    "                        monitorFile=glob.glob(os.path.join(monitorFilePath, filePattern))\n",
    "                        DSPtot=readFile(monitorFile[0])\n",
    "                        filePattern=\"upstreamPressure_\" + row[0].replace(\" \",\"\") + \"_*\"\n",
    "                        monitorFile=glob.glob(os.path.join(monitorFilePath, filePattern))\n",
    "                        USP=readFile(monitorFile[0])\n",
    "                        filePattern=\"upstreamPressureTot_\" + row[0].replace(\" \",\"\") + \"_*\"\n",
    "                        monitorFile=glob.glob(os.path.join(monitorFilePath, filePattern))\n",
    "                        USPtot=readFile(monitorFile[0])\n",
    "                        deltaCp=2*(USP-DSP)\n",
    "                        deltaCptot=2*(USPtot-DSPtot)\n",
    "                        diffDeltaCp=100*(deltaCp-float(row[4]))/float(row[4])\n",
    "                        diffDeltaCptot=100*(deltaCptot-float(row[6]))/float(row[6])\n",
    "                        modRow=row[0:4] + [deltaCp] + [diffDeltaCp] + [deltaCptot] + [diffDeltaCptot] + [DSP] + [DSPtot] + [USP] + [USPtot]\n",
    "                        writer.writerow(modRow)\n",
    "                        \n",
    "                        \n"
   ]
  },
  {
   "cell_type": "code",
   "execution_count": null,
   "metadata": {},
   "outputs": [],
   "source": [
    "csv.w"
   ]
  }
 ],
 "metadata": {
  "kernelspec": {
   "display_name": "Python 3",
   "language": "python",
   "name": "python3"
  },
  "language_info": {
   "codemirror_mode": {
    "name": "ipython",
    "version": 3
   },
   "file_extension": ".py",
   "mimetype": "text/x-python",
   "name": "python",
   "nbconvert_exporter": "python",
   "pygments_lexer": "ipython3",
   "version": "3.10.12"
  }
 },
 "nbformat": 4,
 "nbformat_minor": 2
}

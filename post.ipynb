{
 "cells": [
  {
   "cell_type": "code",
   "execution_count": 2,
   "metadata": {},
   "outputs": [],
   "source": [
    "import os\n",
    "from modulus.sym.hydra import to_absolute_path\n",
    "from csv_rw import csv_to_dict\n",
    "import csv\n",
    "import numpy as np\n",
    "import glob\n",
    "from multiprocessing import Process\n",
    "from fwdFacingStep import ffs, param_ranges, Re, Ho, Lo\n"
   ]
  },
  {
   "cell_type": "code",
   "execution_count": 30,
   "metadata": {},
   "outputs": [],
   "source": [
    "def readFile(file_path):\n",
    "    with open(file_path, \"r\") as datafile:\n",
    "        data = []\n",
    "        reader = csv.reader(datafile, delimiter=\",\")\n",
    "        for row in reader:\n",
    "            columns = [row[1]]\n",
    "            data.append(columns)\n",
    "        last_row = float(data[-1][0])\n",
    "        return last_row"
   ]
  },
  {
   "cell_type": "code",
   "execution_count": 2,
   "metadata": {},
   "outputs": [
    {
     "name": "stdout",
     "output_type": "stream",
     "text": [
      "physicsOnly@500k\n"
     ]
    },
    {
     "ename": "NameError",
     "evalue": "name 'os' is not defined",
     "output_type": "error",
     "traceback": [
      "\u001b[0;31m---------------------------------------------------------------------------\u001b[0m",
      "\u001b[0;31mNameError\u001b[0m                                 Traceback (most recent call last)",
      "Cell \u001b[0;32mIn[2], line 46\u001b[0m\n\u001b[1;32m     43\u001b[0m         \u001b[38;5;28mprint\u001b[39m(\u001b[38;5;124m\"\u001b[39m\u001b[38;5;124mskipping \u001b[39m\u001b[38;5;124m\"\u001b[39m, model)\n\u001b[1;32m     44\u001b[0m         \u001b[38;5;28;01mcontinue\u001b[39;00m\n\u001b[0;32m---> 46\u001b[0m monitorFilePath \u001b[38;5;241m=\u001b[39m \u001b[43mos\u001b[49m\u001b[38;5;241m.\u001b[39mpath\u001b[38;5;241m.\u001b[39mjoin(outputsPath, model, \u001b[38;5;124m\"\u001b[39m\u001b[38;5;124mmonitors\u001b[39m\u001b[38;5;124m\"\u001b[39m)\n\u001b[1;32m     47\u001b[0m \u001b[38;5;66;03m# read pressure monitors\u001b[39;00m\n\u001b[1;32m     48\u001b[0m filePattern\u001b[38;5;241m=\u001b[39m\u001b[38;5;124m\"\u001b[39m\u001b[38;5;124mdownstreamPressure_\u001b[39m\u001b[38;5;124m\"\u001b[39m \u001b[38;5;241m+\u001b[39m row[\u001b[38;5;241m0\u001b[39m]\u001b[38;5;241m.\u001b[39mreplace(\u001b[38;5;124m\"\u001b[39m\u001b[38;5;124m \u001b[39m\u001b[38;5;124m\"\u001b[39m,\u001b[38;5;124m\"\u001b[39m\u001b[38;5;124m\"\u001b[39m) \u001b[38;5;241m+\u001b[39m \u001b[38;5;124m\"\u001b[39m\u001b[38;5;124m_*\u001b[39m\u001b[38;5;124m\"\u001b[39m\n",
      "\u001b[0;31mNameError\u001b[0m: name 'os' is not defined"
     ]
    }
   ],
   "source": [
    "# Read and Compare Delta Cp\n",
    "\n",
    "from os import listdir\n",
    "\n",
    "ansysFilePath=\"./ansysDPsValidation.csv\"\n",
    "resultsFilePath=\"./results.csv\"\n",
    "outputsPath=\"./outputs/fwdFacingStep\"\n",
    "\n",
    "# models = [\"old_dataPlusPhysics3600@300k\", \"data3600PlusPhysicsLambda05@300k\", \"data3600PlusPhysicsLambda1@300k\", \"old_physicsOnly@500k\", \"physicsOnly@500k\"]\n",
    "\n",
    "dirSkip = [\".hydra\", \"init\"]\n",
    "\n",
    "models = listdir(outputsPath)\n",
    "models.sort()\n",
    "\n",
    "models = [\"physicsOnly@500k\", \"data1800PlusPhysicsLambda01@500k\", \"data1800PlusPhysicsLambda1@500k\"]\n",
    "\n",
    "\n",
    "diffSumSkip = [\"DP 5\",\"DP 36\",\"DP 79\",\"DP 86\"]\n",
    "\n",
    "\n",
    "with open(ansysFilePath, \"r\") as ansysFile,  open(resultsFilePath, \"w\") as resultsFile:\n",
    "        reader = csv.reader(ansysFile, delimiter=\",\")\n",
    "        writer = csv.writer(resultsFile, delimiter=\",\")\n",
    "        diffDict= {}\n",
    "        for model in models:\n",
    "                diffDict[model] = 0\n",
    "                # print(type(diffDict[model]))\n",
    "        for i, row in enumerate(reader):\n",
    "                if i == 0:\n",
    "                        # add columns for difference modulus vs ansys\n",
    "                        row.insert(5, \"Diff Delta Cp [%]\")\n",
    "                        # row.insert(7, \"Diff Delta Cptot [%]\")\n",
    "                        writer.writerow(row)\n",
    "                else:\n",
    "                        # add ansys results to table\n",
    "                        row.insert(5, \"-\")\n",
    "                        # row.insert(7, \"-\")\n",
    "                        writer.writerow(row)\n",
    "                        for model in models:\n",
    "                                print(model)\n",
    "                                if model in dirSkip:\n",
    "                                        print(\"skipping \", model)\n",
    "                                        continue\n",
    "                                \n",
    "                                monitorFilePath = os.path.join(outputsPath, model, \"monitors\")\n",
    "                                # read pressure monitors\n",
    "                                filePattern=\"downstreamPressure_\" + row[0].replace(\" \",\"\") + \"_*\"\n",
    "                                monitorFile=glob.glob(os.path.join(monitorFilePath, filePattern))\n",
    "                                DSP=readFile(monitorFile[0])\n",
    "                                # filePattern=\"downstreamPressureTot_\" + row[0].replace(\" \",\"\") + \"_*\"\n",
    "                                # monitorFile=glob.glob(os.path.join(monitorFilePath, filePattern))\n",
    "                                # DSPtot=readFile(monitorFile[0])\n",
    "                                filePattern=\"upstreamPressure_\" + row[0].replace(\" \",\"\") + \"_*\"\n",
    "                                monitorFile=glob.glob(os.path.join(monitorFilePath, filePattern))\n",
    "                                USP=readFile(monitorFile[0])\n",
    "                                # filePattern=\"upstreamPressureTot_\" + row[0].replace(\" \",\"\") + \"_*\"\n",
    "                                # monitorFile=glob.glob(os.path.join(monitorFilePath, filePattern))\n",
    "                                # USPtot=readFile(monitorFile[0])\n",
    "                                \n",
    "                                # calculate modulus pressure drop and difference modulus vs ansys\n",
    "                                deltaCp=2*(USP-DSP)\n",
    "                                # deltaCptot=2*(USPtot-DSPtot)\n",
    "                                diffDeltaCp=100*(deltaCp-float(row[4]))/float(row[4])\n",
    "                                # diffDeltaCptot=100*(deltaCptot-float(row[6]))/float(row[6])\n",
    "                                \n",
    "                                if row[0] not in diffSumSkip:\n",
    "                                        print(\"ns\", row[0])\n",
    "                                        diffDict[model] += abs(diffDeltaCp)\n",
    "                                \n",
    "                                # add modulus results to table\n",
    "                                modRow=[row[0] + \" \" + model] + row[1:4] + [deltaCp] + [diffDeltaCp] + [DSP] + [USP]\n",
    "                                # modRow=[row[0] + \" \" + model] + row[1:4] + [deltaCp] + [diffDeltaCp] + [deltaCptot] + [diffDeltaCptot] + [DSP] + [DSPtot] + [USP] + [USPtot]\n",
    "                                writer.writerow(modRow)\n",
    "        # Add deviation sum\n",
    "        for model in models:\n",
    "                deviationRow = [\"Sum \" + model] + [\"-\"] + [\"-\"] + [\"-\"] + [\"-\"] + [diffDict[model]] + [\"-\"] + [\"-\"]\n",
    "                writer.writerow(deviationRow)\n",
    "                \n",
    "                                \n",
    "                                \n"
   ]
  },
  {
   "cell_type": "code",
   "execution_count": 1,
   "metadata": {},
   "outputs": [
    {
     "name": "stdout",
     "output_type": "stream",
     "text": [
      "physicsOnly@500k & 100 & 0.2117 & 0.1000 & 20.1844 & -  \\\\\n",
      "  & 200 & 0.2000 & 0.1000 & 14.6800 & -  \\\\\n",
      "  & 300 & 0.2000 & 0.3328 & 12.4632 & -  \\\\\n",
      "  & 400 & 0.2000 & 0.3361 & 11.2295 & -  \\\\\n",
      "  & 500 & 0.2000 & 0.3370 & 10.4113 & -  \\\\\n",
      "  & 600 & 0.2000 & 0.3390 & 9.8743 & -  \\\\\n",
      "  & 700 & 0.2000 & 0.3407 & 9.4838 & -  \\\\\n",
      "  & 800 & 0.2000 & 0.3426 & 9.1810 & -  \\\\\n",
      "  & 900 & 0.2000 & 0.3433 & 8.9780 & -  \\\\\n",
      "  & 1000 & 0.2000 & 0.3436 & 8.9407 & -  \\\\\n",
      "\\hline\n"
     ]
    },
    {
     "ename": "FileNotFoundError",
     "evalue": "[Errno 2] No such file or directory: './optimizationResults/data1800PlusPhysicsLambda01@500k/optResultsF100.npy'",
     "output_type": "error",
     "traceback": [
      "\u001b[0;31m---------------------------------------------------------------------------\u001b[0m",
      "\u001b[0;31mFileNotFoundError\u001b[0m                         Traceback (most recent call last)",
      "Cell \u001b[0;32mIn[1], line 33\u001b[0m\n\u001b[1;32m     30\u001b[0m optPath \u001b[38;5;241m=\u001b[39m optResultsPath \u001b[38;5;241m+\u001b[39m model\n\u001b[1;32m     31\u001b[0m \u001b[38;5;28;01mfor\u001b[39;00m reNr \u001b[38;5;129;01min\u001b[39;00m \u001b[38;5;28mrange\u001b[39m (\u001b[38;5;241m100\u001b[39m, \u001b[38;5;241m1100\u001b[39m, \u001b[38;5;241m100\u001b[39m):\n\u001b[0;32m---> 33\u001b[0m     F \u001b[38;5;241m=\u001b[39m \u001b[43mnp\u001b[49m\u001b[38;5;241;43m.\u001b[39;49m\u001b[43mload\u001b[49m\u001b[43m(\u001b[49m\u001b[43moptPath\u001b[49m\u001b[43m \u001b[49m\u001b[38;5;241;43m+\u001b[39;49m\u001b[43m \u001b[49m\u001b[38;5;124;43m\"\u001b[39;49m\u001b[38;5;124;43m/optResultsF\u001b[39;49m\u001b[38;5;124;43m\"\u001b[39;49m\u001b[43m \u001b[49m\u001b[38;5;241;43m+\u001b[39;49m\u001b[43m \u001b[49m\u001b[38;5;28;43mstr\u001b[39;49m\u001b[43m(\u001b[49m\u001b[43mreNr\u001b[49m\u001b[43m)\u001b[49m\u001b[43m \u001b[49m\u001b[38;5;241;43m+\u001b[39;49m\u001b[43m \u001b[49m\u001b[38;5;124;43m\"\u001b[39;49m\u001b[38;5;124;43m.npy\u001b[39;49m\u001b[38;5;124;43m\"\u001b[39;49m\u001b[43m)\u001b[49m\n\u001b[1;32m     34\u001b[0m     X \u001b[38;5;241m=\u001b[39m np\u001b[38;5;241m.\u001b[39mload(optPath \u001b[38;5;241m+\u001b[39m \u001b[38;5;124m\"\u001b[39m\u001b[38;5;124m/optResultsX\u001b[39m\u001b[38;5;124m\"\u001b[39m \u001b[38;5;241m+\u001b[39m \u001b[38;5;28mstr\u001b[39m(reNr) \u001b[38;5;241m+\u001b[39m \u001b[38;5;124m\"\u001b[39m\u001b[38;5;124m.npy\u001b[39m\u001b[38;5;124m\"\u001b[39m)\n\u001b[1;32m     35\u001b[0m     popF \u001b[38;5;241m=\u001b[39m np\u001b[38;5;241m.\u001b[39mload(optPath \u001b[38;5;241m+\u001b[39m \u001b[38;5;124m\"\u001b[39m\u001b[38;5;124m/popF\u001b[39m\u001b[38;5;124m\"\u001b[39m \u001b[38;5;241m+\u001b[39m \u001b[38;5;28mstr\u001b[39m(reNr) \u001b[38;5;241m+\u001b[39m \u001b[38;5;124m\"\u001b[39m\u001b[38;5;124m.npy\u001b[39m\u001b[38;5;124m\"\u001b[39m)\n",
      "File \u001b[0;32m/usr/local/lib/python3.10/dist-packages/numpy/lib/npyio.py:405\u001b[0m, in \u001b[0;36mload\u001b[0;34m(file, mmap_mode, allow_pickle, fix_imports, encoding, max_header_size)\u001b[0m\n\u001b[1;32m    403\u001b[0m     own_fid \u001b[38;5;241m=\u001b[39m \u001b[38;5;28;01mFalse\u001b[39;00m\n\u001b[1;32m    404\u001b[0m \u001b[38;5;28;01melse\u001b[39;00m:\n\u001b[0;32m--> 405\u001b[0m     fid \u001b[38;5;241m=\u001b[39m stack\u001b[38;5;241m.\u001b[39menter_context(\u001b[38;5;28;43mopen\u001b[39;49m\u001b[43m(\u001b[49m\u001b[43mos_fspath\u001b[49m\u001b[43m(\u001b[49m\u001b[43mfile\u001b[49m\u001b[43m)\u001b[49m\u001b[43m,\u001b[49m\u001b[43m \u001b[49m\u001b[38;5;124;43m\"\u001b[39;49m\u001b[38;5;124;43mrb\u001b[39;49m\u001b[38;5;124;43m\"\u001b[39;49m\u001b[43m)\u001b[49m)\n\u001b[1;32m    406\u001b[0m     own_fid \u001b[38;5;241m=\u001b[39m \u001b[38;5;28;01mTrue\u001b[39;00m\n\u001b[1;32m    408\u001b[0m \u001b[38;5;66;03m# Code to distinguish from NumPy binary files and pickles.\u001b[39;00m\n",
      "\u001b[0;31mFileNotFoundError\u001b[0m: [Errno 2] No such file or directory: './optimizationResults/data1800PlusPhysicsLambda01@500k/optResultsF100.npy'"
     ]
    }
   ],
   "source": [
    "# Read Optimization Results\n",
    "\n",
    "import csv\n",
    "from os import listdir\n",
    "import numpy as np\n",
    "\n",
    "resultsFilePath=\"./resultsOpt.csv\"\n",
    "\n",
    "dirSkip = [\".hydra\", \"init\"]\n",
    "\n",
    "optResultsPath = \"./optimizationResults/\"\n",
    "\n",
    "# models = [\"physicsOnly@500k\", \"data1800PlusPhysicsLambda01@300k\"]\n",
    "models = [\"physicsOnly@500k\", \"data1800PlusPhysicsLambda01@500k\"]\n",
    "# models = listdir(optResultsPath)\n",
    "# models.sort()\n",
    "\n",
    "with open(resultsFilePath, \"w\") as resultsFile:\n",
    "    writer = csv.writer(resultsFile, delimiter=\",\")\n",
    "    \n",
    "    firstRow = [\"model\", \"Re\", \"Lo\", \"Ho\", \"delta Cp\", \"delta Cp Ref\"]\n",
    "    writer.writerow(firstRow)\n",
    "\n",
    "\n",
    "    for model in models:\n",
    "        if model in dirSkip:\n",
    "            print(\"skipping \", model)\n",
    "            continue\n",
    "            \n",
    "        optPath = optResultsPath + model\n",
    "        for reNr in range (100, 1100, 100):\n",
    "\n",
    "            F = np.load(optPath + \"/optResultsF\" + str(reNr) + \".npy\")\n",
    "            X = np.load(optPath + \"/optResultsX\" + str(reNr) + \".npy\")\n",
    "            popF = np.load(optPath + \"/popF\" + str(reNr) + \".npy\")\n",
    "            popX = np.load(optPath + \"/popX\" + str(reNr) + \".npy\") \n",
    "            # print(\"Re \" + str(re) + \" F: \", F)\n",
    "            # print(\"Re \" + str(reNr) + \": Lo = \" + str(X[0]), \" Ho = \" + str(X[1]))\n",
    "            \n",
    "            row = [model]\n",
    "            row += [reNr, X[0], X[1], F[0]]\n",
    "            \n",
    "            if reNr == 100:\n",
    "                latexStr = model + \" & \" + str(reNr)\n",
    "            else:\n",
    "                latexStr = \" \" + \" & \" + str(reNr)\n",
    "            \n",
    "            for value in row[2:]:\n",
    "                # print(value)\n",
    "                valueF = round(float(value), 4)\n",
    "                latexStr += \" & \" + \"%.4f\" % valueF\n",
    "            latexStr += \" & - \"\n",
    "            latexStr += \" \\\\\\\\\"\n",
    "            \n",
    "\n",
    "            \n",
    "            writer.writerow(row)\n",
    "            print(latexStr)\n",
    "        print(\"\\\\hline\")\n"
   ]
  },
  {
   "cell_type": "code",
   "execution_count": 11,
   "metadata": {},
   "outputs": [
    {
     "name": "stdout",
     "output_type": "stream",
     "text": [
      "['pressureDataPlusPhysicsLambda01@500k', 'data3600PlusPhysicsLambda01@500k', 'data1800PlusPhysicsLambda01@300k', 'pressureDataPlusPhysicsLambda05@300k', '.hydra', 'physicsOnly@100k', 'data3600PlusPhysicsLambda01@300k', 'data3600PlusPhysicsLambda05@300k', 'data3600PlusPhysicsLambda1@300k', 'data3600PlusPhysicsLambda05@500k', 'pressureDataPlusPhysicsLambda05@100k', 'data3600PlusPhysicsLambda01@100k', 'pressureDataPlusPhysicsLambda01@100k', 'data3600PlusPhysicsLambda05@100k', 'physicsOnly@300k', 'physicsOnly@500k', 'data3600PlusPhysicsLambda1@100k', 'data1800PlusPhysicsLambda01@500k', 'data3600PlusPhysicsLambda1@500k', 'data1800PlusPhysicsLambda01@100k', 'pressureDataPlusPhysicsLambda01@300k']\n"
     ]
    }
   ],
   "source": []
  },
  {
   "cell_type": "code",
   "execution_count": 5,
   "metadata": {},
   "outputs": [
    {
     "data": {
      "text/plain": [
       "('hej', 2)"
      ]
     },
     "execution_count": 5,
     "metadata": {},
     "output_type": "execute_result"
    }
   ],
   "source": []
  },
  {
   "cell_type": "code",
   "execution_count": null,
   "metadata": {},
   "outputs": [],
   "source": []
  }
 ],
 "metadata": {
  "kernelspec": {
   "display_name": "Python 3",
   "language": "python",
   "name": "python3"
  },
  "language_info": {
   "codemirror_mode": {
    "name": "ipython",
    "version": 3
   },
   "file_extension": ".py",
   "mimetype": "text/x-python",
   "name": "python",
   "nbconvert_exporter": "python",
   "pygments_lexer": "ipython3",
   "version": "3.10.12"
  }
 },
 "nbformat": 4,
 "nbformat_minor": 2
}

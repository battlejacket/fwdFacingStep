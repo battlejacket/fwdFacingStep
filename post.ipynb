{
 "cells": [
  {
   "cell_type": "code",
   "execution_count": 2,
   "metadata": {},
   "outputs": [],
   "source": [
    "import os\n",
    "from modulus.sym.hydra import to_absolute_path\n",
    "from csv_rw import csv_to_dict\n",
    "import csv\n",
    "import numpy as np\n",
    "import glob\n",
    "from multiprocessing import Process\n",
    "from fwdFacingStep import ffs, param_ranges, Re, Ho, Lo\n"
   ]
  },
  {
   "cell_type": "code",
   "execution_count": 30,
   "metadata": {},
   "outputs": [],
   "source": [
    "def readFile(file_path):\n",
    "    with open(file_path, \"r\") as datafile:\n",
    "        data = []\n",
    "        reader = csv.reader(datafile, delimiter=\",\")\n",
    "        for row in reader:\n",
    "            columns = [row[1]]\n",
    "            data.append(columns)\n",
    "        last_row = float(data[-1][0])\n",
    "        return last_row"
   ]
  },
  {
   "cell_type": "code",
   "execution_count": 33,
   "metadata": {},
   "outputs": [
    {
     "name": "stdout",
     "output_type": "stream",
     "text": [
      ".hydra\n",
      "skipping  .hydra\n",
      "data1800PlusPhysicsLambda01@100k\n"
     ]
    },
    {
     "ename": "IndexError",
     "evalue": "list index out of range",
     "output_type": "error",
     "traceback": [
      "\u001b[0;31m---------------------------------------------------------------------------\u001b[0m",
      "\u001b[0;31mIndexError\u001b[0m                                Traceback (most recent call last)",
      "Cell \u001b[0;32mIn[33], line 48\u001b[0m\n\u001b[1;32m     46\u001b[0m filePattern\u001b[38;5;241m=\u001b[39m\u001b[38;5;124m\"\u001b[39m\u001b[38;5;124mdownstreamPressure_\u001b[39m\u001b[38;5;124m\"\u001b[39m \u001b[38;5;241m+\u001b[39m row[\u001b[38;5;241m0\u001b[39m]\u001b[38;5;241m.\u001b[39mreplace(\u001b[38;5;124m\"\u001b[39m\u001b[38;5;124m \u001b[39m\u001b[38;5;124m\"\u001b[39m,\u001b[38;5;124m\"\u001b[39m\u001b[38;5;124m\"\u001b[39m) \u001b[38;5;241m+\u001b[39m \u001b[38;5;124m\"\u001b[39m\u001b[38;5;124m_*\u001b[39m\u001b[38;5;124m\"\u001b[39m\n\u001b[1;32m     47\u001b[0m monitorFile\u001b[38;5;241m=\u001b[39mglob\u001b[38;5;241m.\u001b[39mglob(os\u001b[38;5;241m.\u001b[39mpath\u001b[38;5;241m.\u001b[39mjoin(monitorFilePath, filePattern))\n\u001b[0;32m---> 48\u001b[0m DSP\u001b[38;5;241m=\u001b[39mreadFile(\u001b[43mmonitorFile\u001b[49m\u001b[43m[\u001b[49m\u001b[38;5;241;43m0\u001b[39;49m\u001b[43m]\u001b[49m)\n\u001b[1;32m     49\u001b[0m \u001b[38;5;66;03m# filePattern=\"downstreamPressureTot_\" + row[0].replace(\" \",\"\") + \"_*\"\u001b[39;00m\n\u001b[1;32m     50\u001b[0m \u001b[38;5;66;03m# monitorFile=glob.glob(os.path.join(monitorFilePath, filePattern))\u001b[39;00m\n\u001b[1;32m     51\u001b[0m \u001b[38;5;66;03m# DSPtot=readFile(monitorFile[0])\u001b[39;00m\n\u001b[1;32m     52\u001b[0m filePattern\u001b[38;5;241m=\u001b[39m\u001b[38;5;124m\"\u001b[39m\u001b[38;5;124mupstreamPressure_\u001b[39m\u001b[38;5;124m\"\u001b[39m \u001b[38;5;241m+\u001b[39m row[\u001b[38;5;241m0\u001b[39m]\u001b[38;5;241m.\u001b[39mreplace(\u001b[38;5;124m\"\u001b[39m\u001b[38;5;124m \u001b[39m\u001b[38;5;124m\"\u001b[39m,\u001b[38;5;124m\"\u001b[39m\u001b[38;5;124m\"\u001b[39m) \u001b[38;5;241m+\u001b[39m \u001b[38;5;124m\"\u001b[39m\u001b[38;5;124m_*\u001b[39m\u001b[38;5;124m\"\u001b[39m\n",
      "\u001b[0;31mIndexError\u001b[0m: list index out of range"
     ]
    }
   ],
   "source": [
    "# Read and Compare Delta Cp\n",
    "\n",
    "from os import listdir\n",
    "\n",
    "ansysFilePath=\"./ansysDPsValidation.csv\"\n",
    "resultsFilePath=\"./results.csv\"\n",
    "outputsPath=\"./outputs/fwdFacingStep\"\n",
    "\n",
    "# models = [\"old_dataPlusPhysics3600@300k\", \"data3600PlusPhysicsLambda05@300k\", \"data3600PlusPhysicsLambda1@300k\", \"old_physicsOnly@500k\", \"physicsOnly@500k\"]\n",
    "\n",
    "dirSkip = [\".hydra\", \"init\"]\n",
    "\n",
    "models = listdir(outputsPath)\n",
    "models.sort()\n",
    "\n",
    "\n",
    "diffSumSkip = [\"DP 5\",\"DP 36\",\"DP 79\",\"DP 86\"]\n",
    "\n",
    "\n",
    "with open(ansysFilePath, \"r\") as ansysFile,  open(resultsFilePath, \"w\") as resultsFile:\n",
    "        reader = csv.reader(ansysFile, delimiter=\",\")\n",
    "        writer = csv.writer(resultsFile, delimiter=\",\")\n",
    "        diffDict= {}\n",
    "        for model in models:\n",
    "                diffDict[model] = 0\n",
    "                # print(type(diffDict[model]))\n",
    "        for i, row in enumerate(reader):\n",
    "                if i == 0:\n",
    "                        # add columns for difference modulus vs ansys\n",
    "                        row.insert(5, \"Diff Delta Cp [%]\")\n",
    "                        # row.insert(7, \"Diff Delta Cptot [%]\")\n",
    "                        writer.writerow(row)\n",
    "                else:\n",
    "                        # add ansys results to table\n",
    "                        row.insert(5, \"-\")\n",
    "                        # row.insert(7, \"-\")\n",
    "                        writer.writerow(row)\n",
    "                        for model in models:\n",
    "                                print(model)\n",
    "                                if model in dirSkip:\n",
    "                                        print(\"skipping \", model)\n",
    "                                        continue\n",
    "                                \n",
    "                                monitorFilePath = os.path.join(outputsPath, model, \"monitors\")\n",
    "                                # read pressure monitors\n",
    "                                filePattern=\"downstreamPressure_\" + row[0].replace(\" \",\"\") + \"_*\"\n",
    "                                monitorFile=glob.glob(os.path.join(monitorFilePath, filePattern))\n",
    "                                DSP=readFile(monitorFile[0])\n",
    "                                # filePattern=\"downstreamPressureTot_\" + row[0].replace(\" \",\"\") + \"_*\"\n",
    "                                # monitorFile=glob.glob(os.path.join(monitorFilePath, filePattern))\n",
    "                                # DSPtot=readFile(monitorFile[0])\n",
    "                                filePattern=\"upstreamPressure_\" + row[0].replace(\" \",\"\") + \"_*\"\n",
    "                                monitorFile=glob.glob(os.path.join(monitorFilePath, filePattern))\n",
    "                                USP=readFile(monitorFile[0])\n",
    "                                # filePattern=\"upstreamPressureTot_\" + row[0].replace(\" \",\"\") + \"_*\"\n",
    "                                # monitorFile=glob.glob(os.path.join(monitorFilePath, filePattern))\n",
    "                                # USPtot=readFile(monitorFile[0])\n",
    "                                \n",
    "                                # calculate modulus pressure drop and difference modulus vs ansys\n",
    "                                deltaCp=2*(USP-DSP)\n",
    "                                # deltaCptot=2*(USPtot-DSPtot)\n",
    "                                diffDeltaCp=100*(deltaCp-float(row[4]))/float(row[4])\n",
    "                                # diffDeltaCptot=100*(deltaCptot-float(row[6]))/float(row[6])\n",
    "                                \n",
    "                                if row[0] not in diffSumSkip:\n",
    "                                        print(\"ns\", row[0])\n",
    "                                        diffDict[model] += abs(diffDeltaCp)\n",
    "                                \n",
    "                                # add modulus results to table\n",
    "                                modRow=[row[0] + \" \" + model] + row[1:4] + [deltaCp] + [diffDeltaCp] + [DSP] + [USP]\n",
    "                                # modRow=[row[0] + \" \" + model] + row[1:4] + [deltaCp] + [diffDeltaCp] + [deltaCptot] + [diffDeltaCptot] + [DSP] + [DSPtot] + [USP] + [USPtot]\n",
    "                                writer.writerow(modRow)\n",
    "        # Add deviation sum\n",
    "        for model in models:\n",
    "                deviationRow = [\"Sum \" + model] + [\"-\"] + [\"-\"] + [\"-\"] + [\"-\"] + [diffDict[model]] + [\"-\"] + [\"-\"]\n",
    "                writer.writerow(deviationRow)\n",
    "                \n",
    "                                \n",
    "                                \n"
   ]
  },
  {
   "cell_type": "code",
   "execution_count": 28,
   "metadata": {},
   "outputs": [
    {
     "name": "stdout",
     "output_type": "stream",
     "text": [
      "data1800PlusPhysicsLambda01@300k & 100 & 0.5532 & 0.1307 & 19.7359 & -  \\\\\n",
      "  & 200 & 0.3881 & 0.2536 & 14.3812 & -  \\\\\n",
      "  & 300 & 1.0000 & 0.3152 & 12.2575 & -  \\\\\n",
      "  & 400 & 1.0000 & 0.3218 & 11.0983 & -  \\\\\n",
      "  & 500 & 0.7791 & 0.3192 & 10.4320 & -  \\\\\n",
      "  & 600 & 0.2143 & 0.4004 & 9.8627 & -  \\\\\n",
      "  & 700 & 0.6457 & 0.3097 & 9.5566 & -  \\\\\n",
      "  & 800 & 0.3023 & 0.4010 & 9.1406 & -  \\\\\n",
      "  & 900 & 0.9096 & 0.3010 & 8.9601 & -  \\\\\n",
      "  & 1000 & 0.8317 & 0.3241 & 8.8776 & -  \\\\\n",
      "\\hline\n",
      "physicsOnly@500k & 100 & 0.2500 & 0.1000 & 20.1949 & -  \\\\\n",
      "  & 200 & 0.2500 & 0.1000 & 14.7074 & -  \\\\\n",
      "  & 300 & 0.2500 & 0.1000 & 12.5024 & -  \\\\\n",
      "  & 400 & 0.2500 & 0.3329 & 11.2825 & -  \\\\\n",
      "  & 500 & 0.2500 & 0.3344 & 10.4527 & -  \\\\\n",
      "  & 600 & 0.2500 & 0.3370 & 9.9094 & -  \\\\\n",
      "  & 700 & 0.3795 & 0.3388 & 9.5035 & -  \\\\\n",
      "  & 800 & 0.3821 & 0.3410 & 9.1886 & -  \\\\\n",
      "  & 900 & 0.3834 & 0.3420 & 8.9813 & -  \\\\\n",
      "  & 1000 & 0.3839 & 0.3417 & 8.9443 & -  \\\\\n",
      "\\hline\n"
     ]
    }
   ],
   "source": [
    "# Read Optimization Results\n",
    "\n",
    "import csv\n",
    "from os import listdir\n",
    "import numpy as np\n",
    "\n",
    "resultsFilePath=\"./resultsOpt.csv\"\n",
    "\n",
    "dirSkip = [\".hydra\", \"init\"]\n",
    "\n",
    "optResultsPath = \"./optimizationResults/\"\n",
    "\n",
    "models = [\"physicsOnly@500k\", \"data1800PlusPhysicsLambda01@300k\"]\n",
    "# models = [\"physicsOnly@500k\", \"data1800PlusPhysicsLambda01@300k\", \"data1800PlusPhysicsLambda01@500k\"]\n",
    "# models = listdir(optResultsPath)\n",
    "# models.sort()\n",
    "\n",
    "with open(resultsFilePath, \"w\") as resultsFile:\n",
    "    writer = csv.writer(resultsFile, delimiter=\",\")\n",
    "    \n",
    "    firstRow = [\"model\", \"Re\", \"Lo\", \"Ho\", \"delta Cp\", \"delta Cp Ref\"]\n",
    "    writer.writerow(firstRow)\n",
    "\n",
    "\n",
    "    for model in models:\n",
    "        if model in dirSkip:\n",
    "            print(\"skipping \", model)\n",
    "            continue\n",
    "            \n",
    "        optPath = optResultsPath + model\n",
    "        for reNr in range (100, 1100, 100):\n",
    "\n",
    "            F = np.load(optPath + \"/optResultsF\" + str(reNr) + \".npy\")\n",
    "            X = np.load(optPath + \"/optResultsX\" + str(reNr) + \".npy\")\n",
    "            popF = np.load(optPath + \"/popF\" + str(reNr) + \".npy\")\n",
    "            popX = np.load(optPath + \"/popX\" + str(reNr) + \".npy\") \n",
    "            # print(\"Re \" + str(re) + \" F: \", F)\n",
    "            # print(\"Re \" + str(reNr) + \": Lo = \" + str(X[0]), \" Ho = \" + str(X[1]))\n",
    "            \n",
    "            row = [model]\n",
    "            row += [reNr, X[0], X[1], F[0]]\n",
    "            \n",
    "            if reNr == 100:\n",
    "                latexStr = model + \" & \" + str(reNr)\n",
    "            else:\n",
    "                latexStr = \" \" + \" & \" + str(reNr)\n",
    "            \n",
    "            for value in row[2:]:\n",
    "                # print(value)\n",
    "                valueF = round(float(value), 4)\n",
    "                latexStr += \" & \" + \"%.4f\" % valueF\n",
    "            latexStr += \" & - \"\n",
    "            latexStr += \" \\\\\\\\\"\n",
    "            \n",
    "\n",
    "            \n",
    "            writer.writerow(row)\n",
    "            print(latexStr)\n",
    "        print(\"\\\\hline\")\n"
   ]
  },
  {
   "cell_type": "code",
   "execution_count": 11,
   "metadata": {},
   "outputs": [
    {
     "name": "stdout",
     "output_type": "stream",
     "text": [
      "['pressureDataPlusPhysicsLambda01@500k', 'data3600PlusPhysicsLambda01@500k', 'data1800PlusPhysicsLambda01@300k', 'pressureDataPlusPhysicsLambda05@300k', '.hydra', 'physicsOnly@100k', 'data3600PlusPhysicsLambda01@300k', 'data3600PlusPhysicsLambda05@300k', 'data3600PlusPhysicsLambda1@300k', 'data3600PlusPhysicsLambda05@500k', 'pressureDataPlusPhysicsLambda05@100k', 'data3600PlusPhysicsLambda01@100k', 'pressureDataPlusPhysicsLambda01@100k', 'data3600PlusPhysicsLambda05@100k', 'physicsOnly@300k', 'physicsOnly@500k', 'data3600PlusPhysicsLambda1@100k', 'data1800PlusPhysicsLambda01@500k', 'data3600PlusPhysicsLambda1@500k', 'data1800PlusPhysicsLambda01@100k', 'pressureDataPlusPhysicsLambda01@300k']\n"
     ]
    }
   ],
   "source": []
  },
  {
   "cell_type": "code",
   "execution_count": 5,
   "metadata": {},
   "outputs": [
    {
     "data": {
      "text/plain": [
       "('hej', 2)"
      ]
     },
     "execution_count": 5,
     "metadata": {},
     "output_type": "execute_result"
    }
   ],
   "source": []
  },
  {
   "cell_type": "code",
   "execution_count": null,
   "metadata": {},
   "outputs": [],
   "source": []
  }
 ],
 "metadata": {
  "kernelspec": {
   "display_name": "Python 3",
   "language": "python",
   "name": "python3"
  },
  "language_info": {
   "codemirror_mode": {
    "name": "ipython",
    "version": 3
   },
   "file_extension": ".py",
   "mimetype": "text/x-python",
   "name": "python",
   "nbconvert_exporter": "python",
   "pygments_lexer": "ipython3",
   "version": "3.10.12"
  }
 },
 "nbformat": 4,
 "nbformat_minor": 2
}

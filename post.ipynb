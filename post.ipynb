{
 "cells": [
  {
   "cell_type": "code",
   "execution_count": 17,
   "metadata": {},
   "outputs": [],
   "source": [
    "import os\n",
    "from modulus.sym.hydra import to_absolute_path\n",
    "from csv_rw import csv_to_dict\n",
    "import csv\n",
    "import numpy as np\n",
    "import glob\n",
    "from multiprocessing import Process\n",
    "from fwdFacingStep import ffs, param_ranges, Re, Ho, Lo\n",
    "from shortNames import shortNameDict\n"
   ]
  },
  {
   "cell_type": "code",
   "execution_count": 3,
   "metadata": {},
   "outputs": [],
   "source": [
    "def readFile(file_path):\n",
    "    with open(file_path, \"r\") as datafile:\n",
    "        data = []\n",
    "        reader = csv.reader(datafile, delimiter=\",\")\n",
    "        for row in reader:\n",
    "            columns = [row[1]]\n",
    "            data.append(columns)\n",
    "        last_row = float(data[-1][0])\n",
    "        return last_row"
   ]
  },
  {
   "cell_type": "code",
   "execution_count": 5,
   "metadata": {},
   "outputs": [
    {
     "ename": "IndexError",
     "evalue": "list index out of range",
     "output_type": "error",
     "traceback": [
      "\u001b[0;31m---------------------------------------------------------------------------\u001b[0m",
      "\u001b[0;31mIndexError\u001b[0m                                Traceback (most recent call last)",
      "Cell \u001b[0;32mIn[5], line 48\u001b[0m\n\u001b[1;32m     46\u001b[0m filePattern\u001b[38;5;241m=\u001b[39m\u001b[38;5;124m\"\u001b[39m\u001b[38;5;124mdownstreamPressure_\u001b[39m\u001b[38;5;124m\"\u001b[39m \u001b[38;5;241m+\u001b[39m row[\u001b[38;5;241m0\u001b[39m]\u001b[38;5;241m.\u001b[39mreplace(\u001b[38;5;124m\"\u001b[39m\u001b[38;5;124m \u001b[39m\u001b[38;5;124m\"\u001b[39m,\u001b[38;5;124m\"\u001b[39m\u001b[38;5;124m\"\u001b[39m) \u001b[38;5;241m+\u001b[39m \u001b[38;5;124m\"\u001b[39m\u001b[38;5;124m_*\u001b[39m\u001b[38;5;124m\"\u001b[39m\n\u001b[1;32m     47\u001b[0m monitorFile\u001b[38;5;241m=\u001b[39mglob\u001b[38;5;241m.\u001b[39mglob(os\u001b[38;5;241m.\u001b[39mpath\u001b[38;5;241m.\u001b[39mjoin(monitorFilePath, filePattern))\n\u001b[0;32m---> 48\u001b[0m DSP\u001b[38;5;241m=\u001b[39mreadFile(\u001b[43mmonitorFile\u001b[49m\u001b[43m[\u001b[49m\u001b[38;5;241;43m0\u001b[39;49m\u001b[43m]\u001b[49m)\n\u001b[1;32m     49\u001b[0m \u001b[38;5;66;03m# filePattern=\"downstreamPressureTot_\" + row[0].replace(\" \",\"\") + \"_*\"\u001b[39;00m\n\u001b[1;32m     50\u001b[0m \u001b[38;5;66;03m# monitorFile=glob.glob(os.path.join(monitorFilePath, filePattern))\u001b[39;00m\n\u001b[1;32m     51\u001b[0m \u001b[38;5;66;03m# DSPtot=readFile(monitorFile[0])\u001b[39;00m\n\u001b[1;32m     52\u001b[0m filePattern\u001b[38;5;241m=\u001b[39m\u001b[38;5;124m\"\u001b[39m\u001b[38;5;124mupstreamPressure_\u001b[39m\u001b[38;5;124m\"\u001b[39m \u001b[38;5;241m+\u001b[39m row[\u001b[38;5;241m0\u001b[39m]\u001b[38;5;241m.\u001b[39mreplace(\u001b[38;5;124m\"\u001b[39m\u001b[38;5;124m \u001b[39m\u001b[38;5;124m\"\u001b[39m,\u001b[38;5;124m\"\u001b[39m\u001b[38;5;124m\"\u001b[39m) \u001b[38;5;241m+\u001b[39m \u001b[38;5;124m\"\u001b[39m\u001b[38;5;124m_*\u001b[39m\u001b[38;5;124m\"\u001b[39m\n",
      "\u001b[0;31mIndexError\u001b[0m: list index out of range"
     ]
    }
   ],
   "source": [
    "# Read and Compare Delta Cp\n",
    "\n",
    "from os import listdir\n",
    "from modulus.sym.domain.validator import Validator\n",
    "from statistics import mean, stdev\n",
    "\n",
    "\n",
    "ansysFilePath=\"./ansysDPsValidation.csv\"\n",
    "resultsFilePath=\"./results.csv\"\n",
    "outputsPath=\"./outputs/fwdFacingStep\"\n",
    "\n",
    "dirSkip = [\".hydra\", \"init\"]\n",
    "\n",
    "models = listdir(outputsPath)\n",
    "models.sort()\n",
    "\n",
    "models = [\"data1800PlusPhysicsLambda1@500k\", \"data1800PlusPhysicsLambda1FC@300k\"]\n",
    "\n",
    "dirSkip = [\".hydra\", \"init\", \"vtp\"]\n",
    "\n",
    "diffSumSkip = [\"DP 5\",\"DP 36\",\"DP 79\",\"DP 86\"]\n",
    "\n",
    "\n",
    "with open(ansysFilePath, \"r\") as ansysFile,  open(resultsFilePath, \"w\") as resultsFile:\n",
    "        reader = csv.reader(ansysFile, delimiter=\",\")\n",
    "        writer = csv.writer(resultsFile, delimiter=\",\")\n",
    "        diffDSP= {}\n",
    "        diffUSP= {}\n",
    "        diffDCp= {}\n",
    "\n",
    "        for i, row in enumerate(reader):\n",
    "            if i == 0:\n",
    "                # add columns for difference modulus vs ansys\n",
    "                row.insert(5, \"Diff Delta Cp [%]\")\n",
    "                # row.insert(7, \"Diff Delta Cptot [%]\")\n",
    "                writer.writerow(row)\n",
    "            else:\n",
    "                for model in models:\n",
    "                        # print(model)\n",
    "                        if model in dirSkip:\n",
    "                                # print(\"skipping \", model)\n",
    "                                continue\n",
    "                        \n",
    "                        monitorFilePath = os.path.join(outputsPath, model, \"monitors\")\n",
    "                        # read pressure monitors\n",
    "                        filePattern=\"downstreamPressure_\" + row[0].replace(\" \",\"\") + \"_*\"\n",
    "                        monitorFile=glob.glob(os.path.join(monitorFilePath, filePattern))\n",
    "                        DSP=readFile(monitorFile[0])\n",
    "                        # filePattern=\"downstreamPressureTot_\" + row[0].replace(\" \",\"\") + \"_*\"\n",
    "                        # monitorFile=glob.glob(os.path.join(monitorFilePath, filePattern))\n",
    "                        # DSPtot=readFile(monitorFile[0])\n",
    "                        filePattern=\"upstreamPressure_\" + row[0].replace(\" \",\"\") + \"_*\"\n",
    "                        monitorFile=glob.glob(os.path.join(monitorFilePath, filePattern))\n",
    "                        USP=readFile(monitorFile[0])\n",
    "                        # filePattern=\"upstreamPressureTot_\" + row[0].replace(\" \",\"\") + \"_*\"\n",
    "                        # monitorFile=glob.glob(os.path.join(monitorFilePath, filePattern))\n",
    "                        # USPtot=readFile(monitorFile[0])\n",
    "                        \n",
    "                        # calculate modulus pressure drop and difference modulus vs ansys\n",
    "                        deltaCp=2*(USP-DSP)\n",
    "                        \n",
    "                        trueDSP = float(row[5])\n",
    "                        trueUSP = float(row[6])\n",
    "                        trueDeltaCp = float(row[4])\n",
    "                        \n",
    "                        if row[0] not in diffSumSkip:\n",
    "                            if model not in diffDSP.keys():\n",
    "                                diffDSP[model] = [abs(100*(DSP - trueDSP)/trueDSP)]\n",
    "                            else:\n",
    "                                diffDSP[model].append(abs(100*(DSP - trueDSP)/trueDSP))\n",
    "                                \n",
    "                            if model not in diffUSP.keys():\n",
    "                                diffUSP[model] = [abs(100*(USP - trueUSP)/trueUSP)]\n",
    "                            else:\n",
    "                                diffUSP[model].append(abs(100*(USP - trueUSP)/trueUSP))\n",
    "                                \n",
    "                            if model not in diffDCp.keys():\n",
    "                                diffDCp[model] = [abs(100*(deltaCp - trueDeltaCp)/trueDeltaCp)]\n",
    "                            else:\n",
    "                                diffDCp[model].append(abs(100*(deltaCp - trueDeltaCp)/trueDeltaCp))\n",
    "                                \n",
    "                        \n",
    "                        \n",
    "                        # add modulus results to table\n",
    "                        # modRow=[row[0] + \" \" + model] + row[1:4] + [deltaCp] + [diffDeltaCp] + [deltaCptot] + [diffDeltaCptot] + [DSP] + [DSPtot] + [USP] + [USPtot]\n",
    "                        # writer.writerow(modRow)\n",
    "            # Add deviation sum\n",
    "        # firstRow = [\"Model\", \"DSP Mean\", \"DSP Min\", \"DSP Max\", \"USP Mean\", \"USP Min\", \"USP Max\", \"DCp Mean\", \"DCp Min\", \"DCp Max\"]\n",
    "        firstRow = [\"Model\", \"DSP Mean\", \"DSP Std\", \"USP Mean\", \"USP Std\", \"DCp Mean\", \"DCp Std\"]\n",
    "        \n",
    "        writer.writerow(firstRow)\n",
    "        \n",
    "        # print(diffDSP)\n",
    "        # print(diffUSP)\n",
    "        # print(diffDCp)\n",
    "        \n",
    "        for model in models:\n",
    "            if model in dirSkip:\n",
    "                # print(\"skipping \", model)\n",
    "                continue\n",
    "            \n",
    "            # maxDSP = max(diffDSP[model])\n",
    "            # maxUSP = max(diffUSP[model])\n",
    "            # maxDCp = max(diffDCp[model])\n",
    "\n",
    "            # minDSP = min(diffDSP[model])\n",
    "            # minUSP = min(diffUSP[model])\n",
    "            # minDCp = min(diffDCp[model])\n",
    "            \n",
    "            meanDSP = mean(diffDSP[model])\n",
    "            meanUSP = mean(diffUSP[model])\n",
    "            meanDCp = mean(diffDCp[model])\n",
    "            \n",
    "            stdDSP = stdev(diffDSP[model])\n",
    "            stdUSP = stdev(diffUSP[model])\n",
    "            stdDCp = stdev(diffDCp[model])\n",
    "            \n",
    "            modelStrSplit = model.split(\"@\")\n",
    "                    \n",
    "            if len(modelStrSplit) == 3:\n",
    "                label = shortNameDict[modelStrSplit[0]] + \"@\" + modelStrSplit[1].split(\"k\")[0] + \"k\" + shortNameDict[modelStrSplit[1].split(\"k\")[-1]] + \"@\" + modelStrSplit[-1]\n",
    "            elif len(modelStrSplit) == 2:\n",
    "                label = shortNameDict[modelStrSplit[0]] + \"@\" + modelStrSplit[-1]\n",
    "                \n",
    "            # row = [label, meanDSP, minDSP, maxDSP, meanUSP, minUSP, maxUSP, meanDCp, minDCp, maxDCp]\n",
    "            row = [label, meanDSP, stdDSP, meanUSP, stdUSP, meanDCp, stdDCp]\n",
    "            \n",
    "            writer.writerow(row)\n",
    "            \n",
    "            latexStr = label\n",
    "                \n",
    "            for value in row[1:]:\n",
    "                # print(value)\n",
    "                valueF = round(float(value), 4)\n",
    "                latexStr += \" & \" + \"%.4f\" % valueF\n",
    "            latexStr += \" \\\\\\\\\"\n",
    "            print(latexStr)                    \n",
    "                                \n"
   ]
  },
  {
   "cell_type": "code",
   "execution_count": 24,
   "metadata": {},
   "outputs": [
    {
     "name": "stdout",
     "output_type": "stream",
     "text": [
      "data1800PlusPhysicsLambda01@500k\n",
      "data1800PlusPhysicsLambda01@500k\n",
      "data1800PlusPhysicsLambda01@500k\n",
      "data1800PlusPhysicsLambda01@500k\n",
      "data1800PlusPhysicsLambda01@500k\n",
      "data1800PlusPhysicsLambda01@500k\n",
      "data1800PlusPhysicsLambda01@500k\n",
      "data1800PlusPhysicsLambda01@500k\n",
      "data1800PlusPhysicsLambda01@500k\n",
      "data1800PlusPhysicsLambda01@500k\n",
      "data1800PlusPhysicsLambda01@500k\n",
      "data1800PlusPhysicsLambda01@500k\n",
      "data1800PlusPhysicsLambda01@500k\n",
      "data1800PlusPhysicsLambda01@500k\n",
      "data1800PlusPhysicsLambda01@500k\n",
      "data1800PlusPhysicsLambda01@500k\n",
      "data1800PlusPhysicsLambda01@500k\n",
      "data1800PlusPhysicsLambda01@500k\n",
      "data1800PlusPhysicsLambda01@500k\n",
      "data1800PlusPhysicsLambda01@500k\n",
      "data1800PlusPhysicsLambda01@500k\n",
      "data1800PlusPhysicsLambda01@500k\n",
      "data1800PlusPhysicsLambda01@500k\n",
      "data1800PlusPhysicsLambda01@500k\n"
     ]
    }
   ],
   "source": [
    "# Read and Compare Delta Cp OLD\n",
    "\n",
    "from os import listdir\n",
    "from modulus.sym.domain.validator import Validator\n",
    "\n",
    "\n",
    "ansysFilePath=\"./ansysDPsValidation.csv\"\n",
    "resultsFilePath=\"./results.csv\"\n",
    "outputsPath=\"./outputs/fwdFacingStep\"\n",
    "\n",
    "# models = [\"old_dataPlusPhysics3600@300k\", \"data3600PlusPhysicsLambda05@300k\", \"data3600PlusPhysicsLambda1@300k\", \"old_physicsOnly@500k\", \"physicsOnly@500k\"]\n",
    "\n",
    "dirSkip = [\".hydra\", \"init\"]\n",
    "\n",
    "models = listdir(outputsPath)\n",
    "models.sort()\n",
    "\n",
    "models = [\"data1800PlusPhysicsLambda01@500k\"]\n",
    "\n",
    "\n",
    "diffSumSkip = [\"DP 5\",\"DP 36\",\"DP 79\",\"DP 86\"]\n",
    "\n",
    "\n",
    "with open(ansysFilePath, \"r\") as ansysFile,  open(resultsFilePath, \"w\") as resultsFile:\n",
    "        reader = csv.reader(ansysFile, delimiter=\",\")\n",
    "        writer = csv.writer(resultsFile, delimiter=\",\")\n",
    "        diffDict= {}\n",
    "        for model in models:\n",
    "                diffDict[model] = 0\n",
    "                # print(type(diffDict[model]))\n",
    "        for i, row in enumerate(reader):\n",
    "                if i == 0:\n",
    "                        # add columns for difference modulus vs ansys\n",
    "                        row.insert(5, \"Diff Delta Cp [%]\")\n",
    "                        # row.insert(7, \"Diff Delta Cptot [%]\")\n",
    "                        writer.writerow(row)\n",
    "                else:\n",
    "                        # add ansys results to table\n",
    "                        row.insert(5, \"-\")\n",
    "                        # row.insert(7, \"-\")\n",
    "                        writer.writerow(row)\n",
    "                        for model in models:\n",
    "                                print(model)\n",
    "                                if model in dirSkip:\n",
    "                                        print(\"skipping \", model)\n",
    "                                        continue\n",
    "                                \n",
    "                                monitorFilePath = os.path.join(outputsPath, model, \"monitors\")\n",
    "                                # read pressure monitors\n",
    "                                filePattern=\"downstreamPressure_\" + row[0].replace(\" \",\"\") + \"_*\"\n",
    "                                monitorFile=glob.glob(os.path.join(monitorFilePath, filePattern))\n",
    "                                DSP=readFile(monitorFile[0])\n",
    "                                # filePattern=\"downstreamPressureTot_\" + row[0].replace(\" \",\"\") + \"_*\"\n",
    "                                # monitorFile=glob.glob(os.path.join(monitorFilePath, filePattern))\n",
    "                                # DSPtot=readFile(monitorFile[0])\n",
    "                                filePattern=\"upstreamPressure_\" + row[0].replace(\" \",\"\") + \"_*\"\n",
    "                                monitorFile=glob.glob(os.path.join(monitorFilePath, filePattern))\n",
    "                                USP=readFile(monitorFile[0])\n",
    "                                # filePattern=\"upstreamPressureTot_\" + row[0].replace(\" \",\"\") + \"_*\"\n",
    "                                # monitorFile=glob.glob(os.path.join(monitorFilePath, filePattern))\n",
    "                                # USPtot=readFile(monitorFile[0])\n",
    "                                \n",
    "                                # calculate modulus pressure drop and difference modulus vs ansys\n",
    "                                deltaCp=2*(USP-DSP)\n",
    "                                # deltaCptot=2*(USPtot-DSPtot)\n",
    "                                deltaCpTrue = float(row[4])\n",
    "                                diffDeltaCp=100*(deltaCp-deltaCpTrue)/deltaCpTrue\n",
    "                                # diffDeltaCptot=100*(deltaCptot-float(row[6]))/float(row[6])\n",
    "                                \n",
    "                                if row[0] not in diffSumSkip:\n",
    "                                        diffDict[model] += abs(diffDeltaCp)\n",
    "                                \n",
    "                                # add modulus results to table\n",
    "                                modRow=[row[0] + \" \" + model] + row[1:4] + [deltaCp] + [diffDeltaCp] + [DSP] + [USP]\n",
    "                                # modRow=[row[0] + \" \" + model] + row[1:4] + [deltaCp] + [diffDeltaCp] + [deltaCptot] + [diffDeltaCptot] + [DSP] + [DSPtot] + [USP] + [USPtot]\n",
    "                                writer.writerow(modRow)\n",
    "        # Add deviation sum\n",
    "        for model in models:\n",
    "                deviationRow = [\"Sum \" + model] + [\"-\"] + [\"-\"] + [\"-\"] + [\"-\"] + [diffDict[model]] + [\"-\"] + [\"-\"]\n",
    "                writer.writerow(deviationRow)\n",
    "                \n",
    "                                \n",
    "                                \n"
   ]
  },
  {
   "cell_type": "code",
   "execution_count": 54,
   "metadata": {},
   "outputs": [
    {
     "name": "stdout",
     "output_type": "stream",
     "text": [
      "D+P\\_FC$\\_W_d1$ & 400 & 0.5266 & 0.3464 & 11.2697 & -  \\\\\n",
      "  & 500 & 0.2500 & 0.4027 & 10.5077 & -  \\\\\n",
      "  & 600 & 0.2919 & 0.4000 & 9.9322 & -  \\\\\n",
      "  & 700 & 0.3323 & 0.3908 & 9.5110 & -  \\\\\n",
      "  & 800 & 0.3128 & 0.3918 & 9.1855 & -  \\\\\n",
      "  & 900 & 0.2500 & 0.3988 & 8.9159 & -  \\\\\n",
      "  & 1000 & 0.2500 & 0.3914 & 8.7200 & -  \\\\\n",
      "\\hline\n"
     ]
    }
   ],
   "source": [
    "# Read Optimization Results\n",
    "\n",
    "import csv\n",
    "from os import listdir\n",
    "import numpy as np\n",
    "\n",
    "resultsFilePath=\"./resultsOpt.csv\"\n",
    "\n",
    "dirSkip = [\".hydra\", \"init\"]\n",
    "\n",
    "# optResultsPath = \"./optimizationResults/\"\n",
    "optResultsPath = \"./optimizationResultsReducedRange/\"\n",
    "\n",
    "# models = listdir(optResultsPath)\n",
    "# models.sort()\n",
    "models = [\"data1800PlusPhysicsLambda1FC@300k\"]\n",
    "\n",
    "with open(resultsFilePath, \"w\") as resultsFile:\n",
    "    writer = csv.writer(resultsFile, delimiter=\",\")\n",
    "    \n",
    "    firstRow = [\"model\", \"Re\", \"Lo\", \"Ho\", \"delta Cp\", \"delta Cp Ref\"]\n",
    "    writer.writerow(firstRow)\n",
    "\n",
    "\n",
    "    for model in models:\n",
    "        if model in dirSkip:\n",
    "            print(\"skipping \", model)\n",
    "            continue\n",
    "            \n",
    "        optPath = optResultsPath + model\n",
    "        \n",
    "        reStart = 400\n",
    "        reEnd = 1000\n",
    "        \n",
    "        \n",
    "        for reNr in range (reStart, reEnd+1, 100):\n",
    "\n",
    "            F = np.load(optPath + \"/optResultsF\" + str(reNr) + \".npy\")\n",
    "            X = np.load(optPath + \"/optResultsX\" + str(reNr) + \".npy\")\n",
    "            popF = np.load(optPath + \"/popF\" + str(reNr) + \".npy\")\n",
    "            popX = np.load(optPath + \"/popX\" + str(reNr) + \".npy\") \n",
    "            # print(\"Re \" + str(re) + \" F: \", F)\n",
    "            # print(\"Re \" + str(reNr) + \": Lo = \" + str(X[0]), \" Ho = \" + str(X[1]))\n",
    "            \n",
    "            modelStrSplit = model.split(\"@\")\n",
    "                \n",
    "            if len(modelStrSplit) == 3:\n",
    "                label = shortNameDict[modelStrSplit[0]] + \"@\" + modelStrSplit[1].split(\"k\")[0] + \"k\" + shortNameDict[modelStrSplit[1].split(\"k\")[-1]] #+ \"@\" + modelStrSplit[-1]\n",
    "            elif len(modelStrSplit) == 2:\n",
    "                label = shortNameDict[modelStrSplit[0]]\n",
    "            \n",
    "            row = [label]\n",
    "            row += [reNr, X[0], X[1], F[0]]\n",
    "            \n",
    "            if reNr == reStart:\n",
    "                latexStr = label + \" & \" + str(reNr)\n",
    "            else:\n",
    "                latexStr = \" \" + \" & \" + str(reNr)\n",
    "            \n",
    "            for value in row[2:]:\n",
    "                # print(value)\n",
    "                valueF = round(float(value), 4)\n",
    "                latexStr += \" & \" + \"%.4f\" % valueF\n",
    "            latexStr += \" & - \"\n",
    "            latexStr += \" \\\\\\\\\"\n",
    "            \n",
    "\n",
    "            \n",
    "            writer.writerow(row)\n",
    "            print(latexStr)\n",
    "        print(\"\\\\hline\")\n"
   ]
  },
  {
   "cell_type": "code",
   "execution_count": 51,
   "metadata": {},
   "outputs": [
    {
     "ename": "FileNotFoundError",
     "evalue": "[Errno 2] No such file or directory: './responseResults/data1800PlusPhysicsLambda1@300k/designsRe500Ho0.35.npy'",
     "output_type": "error",
     "traceback": [
      "\u001b[0;31m---------------------------------------------------------------------------\u001b[0m",
      "\u001b[0;31mFileNotFoundError\u001b[0m                         Traceback (most recent call last)",
      "Cell \u001b[0;32mIn[51], line 80\u001b[0m\n\u001b[1;32m     76\u001b[0m     \u001b[38;5;28;01mcontinue\u001b[39;00m\n\u001b[1;32m     78\u001b[0m path \u001b[38;5;241m=\u001b[39m resultsPath \u001b[38;5;241m+\u001b[39m model\n\u001b[0;32m---> 80\u001b[0m designs \u001b[38;5;241m=\u001b[39m \u001b[43mnp\u001b[49m\u001b[38;5;241;43m.\u001b[39;49m\u001b[43mload\u001b[49m\u001b[43m(\u001b[49m\u001b[43mpath\u001b[49m\u001b[43m \u001b[49m\u001b[38;5;241;43m+\u001b[39;49m\u001b[43m \u001b[49m\u001b[38;5;124;43m\"\u001b[39;49m\u001b[38;5;124;43m/designsRe\u001b[39;49m\u001b[38;5;124;43m\"\u001b[39;49m\u001b[43m \u001b[49m\u001b[38;5;241;43m+\u001b[39;49m\u001b[43m \u001b[49m\u001b[38;5;28;43mstr\u001b[39;49m\u001b[43m(\u001b[49m\u001b[43mreNr\u001b[49m\u001b[43m)\u001b[49m\u001b[43m \u001b[49m\u001b[38;5;241;43m+\u001b[39;49m\u001b[43m \u001b[49m\u001b[38;5;124;43m\"\u001b[39;49m\u001b[38;5;124;43mHo\u001b[39;49m\u001b[38;5;124;43m\"\u001b[39;49m\u001b[43m \u001b[49m\u001b[38;5;241;43m+\u001b[39;49m\u001b[43m \u001b[49m\u001b[38;5;28;43mstr\u001b[39;49m\u001b[43m(\u001b[49m\u001b[43mHoV\u001b[49m\u001b[43m)\u001b[49m\u001b[43m \u001b[49m\u001b[38;5;241;43m+\u001b[39;49m\u001b[43m \u001b[49m\u001b[38;5;124;43m\"\u001b[39;49m\u001b[38;5;124;43m.npy\u001b[39;49m\u001b[38;5;124;43m\"\u001b[39;49m\u001b[43m)\u001b[49m\n\u001b[1;32m     81\u001b[0m results \u001b[38;5;241m=\u001b[39m np\u001b[38;5;241m.\u001b[39mload(path \u001b[38;5;241m+\u001b[39m \u001b[38;5;124m\"\u001b[39m\u001b[38;5;124m/resultsRe\u001b[39m\u001b[38;5;124m\"\u001b[39m \u001b[38;5;241m+\u001b[39m \u001b[38;5;28mstr\u001b[39m(reNr) \u001b[38;5;241m+\u001b[39m \u001b[38;5;124m\"\u001b[39m\u001b[38;5;124mHo\u001b[39m\u001b[38;5;124m\"\u001b[39m \u001b[38;5;241m+\u001b[39m \u001b[38;5;28mstr\u001b[39m(HoV) \u001b[38;5;241m+\u001b[39m \u001b[38;5;124m\"\u001b[39m\u001b[38;5;124m.npy\u001b[39m\u001b[38;5;124m\"\u001b[39m)\n\u001b[1;32m     83\u001b[0m \u001b[38;5;66;03m# designs = np.load(path + \"/designsRe\" + str(reNr) + \"Lo\" + str(HoV) + \".npy\")\u001b[39;00m\n\u001b[1;32m     84\u001b[0m \u001b[38;5;66;03m# results = np.load(path + \"/resultsRe\" + str(reNr) + \"Lo\" + str(HoV) + \".npy\")\u001b[39;00m\n",
      "File \u001b[0;32m/usr/local/lib/python3.10/dist-packages/numpy/lib/npyio.py:405\u001b[0m, in \u001b[0;36mload\u001b[0;34m(file, mmap_mode, allow_pickle, fix_imports, encoding, max_header_size)\u001b[0m\n\u001b[1;32m    403\u001b[0m     own_fid \u001b[38;5;241m=\u001b[39m \u001b[38;5;28;01mFalse\u001b[39;00m\n\u001b[1;32m    404\u001b[0m \u001b[38;5;28;01melse\u001b[39;00m:\n\u001b[0;32m--> 405\u001b[0m     fid \u001b[38;5;241m=\u001b[39m stack\u001b[38;5;241m.\u001b[39menter_context(\u001b[38;5;28;43mopen\u001b[39;49m\u001b[43m(\u001b[49m\u001b[43mos_fspath\u001b[49m\u001b[43m(\u001b[49m\u001b[43mfile\u001b[49m\u001b[43m)\u001b[49m\u001b[43m,\u001b[49m\u001b[43m \u001b[49m\u001b[38;5;124;43m\"\u001b[39;49m\u001b[38;5;124;43mrb\u001b[39;49m\u001b[38;5;124;43m\"\u001b[39;49m\u001b[43m)\u001b[49m)\n\u001b[1;32m    406\u001b[0m     own_fid \u001b[38;5;241m=\u001b[39m \u001b[38;5;28;01mTrue\u001b[39;00m\n\u001b[1;32m    408\u001b[0m \u001b[38;5;66;03m# Code to distinguish from NumPy binary files and pickles.\u001b[39;00m\n",
      "\u001b[0;31mFileNotFoundError\u001b[0m: [Errno 2] No such file or directory: './responseResults/data1800PlusPhysicsLambda1@300k/designsRe500Ho0.35.npy'"
     ]
    },
    {
     "data": {
      "image/png": "[encoded data removed]",
      "text/plain": [
       "<Figure size 640x480 with 1 Axes>"
      ]
     },
     "metadata": {},
     "output_type": "display_data"
    }
   ],
   "source": [
    "# Read Response Results\n",
    "\n",
    "import csv\n",
    "from os import listdir\n",
    "import numpy as np\n",
    "import matplotlib.pyplot as plt\n",
    "# from shortNames import shortNameDict\n",
    "\n",
    "shortNameDict = {\n",
    "    \"data1800PlusPhysicsLambda1\": \"D+P$\\_W_d1$\",\n",
    "    # \"data1800PlusPhysicsLambda1\": \"D+P_L1\",\n",
    "    \"data1800PlusPhysicsLambda01\": \"D+P$\\_W_d0.1$\",\n",
    "    # \"data1800PlusPhysicsLambda01\": \"D+P_L0.1\",\n",
    "    \"dataOnly1800\": \"D\",\n",
    "    \"physicsOnly\": \"P\",\n",
    "    \"physicsOnlyFC\": \"P FC\",\n",
    "    \"pressureDataPlusPhysicsLambda1\": \"PD+P\",\n",
    "    \"data1800PlusPhysicsLambda1FC\" : \"D+P\\_FC$\\_W_d1$\",\n",
    "    \"data1800PlusPhysicsLambda01FC\" : \"D+P\\_FC$\\_W_d01$\",\n",
    "    \"2pO\": \"ToP\"\n",
    "}\n",
    "\n",
    "# resultsFilePath=\"./resultsOpt.csv\"\n",
    "\n",
    "# dirSkip = [\"dataOnly1800@500k\", \"pressureDataPlusPhysicsLambda1@500k\", \"\"]\n",
    "\n",
    "resultsPath = \"./responseResults/\"\n",
    "\n",
    "# models = [\"physicsOnly@500k\", \"data1800PlusPhysicsLambda01@300k\"]\n",
    "# models = [\"physicsOnly@500k\", \"data1800PlusPhysicsLambda01@500k\"]\n",
    "models = listdir(resultsPath)\n",
    "models.sort()\n",
    "\n",
    "# models = [\"data1800PlusPhysicsLambda1@300k\", \"physicsOnlyFC@300k\", \"physicsOnly@300k\", \"data1800PlusPhysicsLambda1FC@300k\", \"data1800PlusPhysicsLambda01FC@300k\"]\n",
    "models = [\"data1800PlusPhysicsLambda1@300k\", \"physicsOnly@300k\", \"data1800PlusPhysicsLambda1FC@300k\", \"data1800PlusPhysicsLambda01FC@300k\"]\n",
    "\n",
    "for L in [\"1\", \"0.1\"]:\n",
    "    for reNr in [500, 800]:\n",
    "        for HoV in [0.35, 0.4, 0.45]:\n",
    "        # for HoV in [0.2, 0.3, 0.4]:\n",
    "            title = \"Re = \" + str(reNr) + \" Ho = \" + str(HoV) + \" Wd = \" + L\n",
    "            plt.figure()\n",
    "            plt.title(title)\n",
    "            \n",
    "            #plot ansys response for comparison\n",
    "            ansysFilePath = \"./AnsysResponseRe\" + str(reNr) + \"Ho\" + str(HoV) + \".csv\"\n",
    "            with open(ansysFilePath, \"r\") as ansysFile:\n",
    "                x_vals_ans = []\n",
    "                y_vals_ans = []\n",
    "                reader = csv.reader(ansysFile, delimiter=\",\")\n",
    "                for i in range(8):\n",
    "                        reader.__next__()\n",
    "                for row in reader:\n",
    "                    x_vals_ans.append(float(row[0]))\n",
    "                    y_vals_ans.append(float(row[1]))\n",
    "            \n",
    "            plt.plot(x_vals_ans, y_vals_ans, label=\"ansys disc\")\n",
    "            \n",
    "            ansysFilePath = \"./AnsysResponse100Re\" + str(reNr) + \"Ho\" + str(HoV) + \".csv\"\n",
    "            with open(ansysFilePath, \"r\") as ansysFile:\n",
    "                x_vals_ans = []\n",
    "                y_vals_ans = []\n",
    "                reader = csv.reader(ansysFile, delimiter=\",\")\n",
    "                for i in range(8):\n",
    "                        reader.__next__()\n",
    "                for row in reader:\n",
    "                    x_vals_ans.append(float(row[0]))\n",
    "                    y_vals_ans.append(float(row[1]))\n",
    "            \n",
    "            plt.plot(x_vals_ans, y_vals_ans, label=\"ansys cont\")\n",
    "\n",
    "            #plot response for modulus models\n",
    "            for model in models:\n",
    "                if model in dirSkip or (\"Lambda\" + L.replace(\".\", \"\") not in model and \"data\" in model):\n",
    "                    print(\"skipping \", model)\n",
    "                    continue\n",
    "                        \n",
    "                path = resultsPath + model\n",
    "\n",
    "                designs = np.load(path + \"/designsRe\" + str(reNr) + \"Ho\" + str(HoV) + \".npy\")\n",
    "                results = np.load(path + \"/resultsRe\" + str(reNr) + \"Ho\" + str(HoV) + \".npy\")\n",
    "                \n",
    "                # designs = np.load(path + \"/designsRe\" + str(reNr) + \"Lo\" + str(HoV) + \".npy\")\n",
    "                # results = np.load(path + \"/resultsRe\" + str(reNr) + \"Lo\" + str(HoV) + \".npy\")\n",
    "\n",
    "                x_vals = [val[0] for val in designs]\n",
    "                # x_vals = [val[1] for val in designs]\n",
    "                \n",
    "                modelStrSplit = model.split(\"@\")\n",
    "                \n",
    "                if len(modelStrSplit) == 3:\n",
    "                    label = shortNameDict[modelStrSplit[0]] + \"@\" + modelStrSplit[1].split(\"k\")[0] + \"k_\" + shortNameDict[modelStrSplit[1].split(\"k\")[-1]]\n",
    "                elif len(modelStrSplit) == 2:\n",
    "                    label = shortNameDict[modelStrSplit[0]]\n",
    "                \n",
    "                plt.plot(x_vals, results, label=label)\n",
    "                \n",
    "            plt.legend()\n",
    "            plt.xlabel(\"Lo\")\n",
    "            plt.ylabel(\"delta Cp\")\n",
    "            plt.savefig(title + \".png\", dpi = 600)"
   ]
  },
  {
   "cell_type": "code",
   "execution_count": 41,
   "metadata": {},
   "outputs": [],
   "source": [
    "a = np.zeros(3, int)\n",
    "a += np.array([4,5,6])\n",
    "# c = a+b"
   ]
  },
  {
   "cell_type": "code",
   "execution_count": 42,
   "metadata": {},
   "outputs": [
    {
     "data": {
      "text/plain": [
       "array([4, 5, 6])"
      ]
     },
     "execution_count": 42,
     "metadata": {},
     "output_type": "execute_result"
    }
   ],
   "source": [
    "a"
   ]
  },
  {
   "cell_type": "code",
   "execution_count": 27,
   "metadata": {},
   "outputs": [],
   "source": [
    "a = {}"
   ]
  },
  {
   "cell_type": "code",
   "execution_count": 32,
   "metadata": {},
   "outputs": [],
   "source": [
    "a['k'] = 0\n",
    "a['l'] = 0"
   ]
  },
  {
   "cell_type": "code",
   "execution_count": 33,
   "metadata": {},
   "outputs": [
    {
     "data": {
      "text/plain": [
       "dict_items([('k', 0), ('l', 0)])"
      ]
     },
     "execution_count": 33,
     "metadata": {},
     "output_type": "execute_result"
    }
   ],
   "source": [
    "a.items()"
   ]
  },
  {
   "cell_type": "code",
   "execution_count": 36,
   "metadata": {},
   "outputs": [
    {
     "ename": "TypeError",
     "evalue": "'dict_items' object is not subscriptable",
     "output_type": "error",
     "traceback": [
      "\u001b[0;31m---------------------------------------------------------------------------\u001b[0m",
      "\u001b[0;31mTypeError\u001b[0m                                 Traceback (most recent call last)",
      "Cell \u001b[0;32mIn[36], line 1\u001b[0m\n\u001b[0;32m----> 1\u001b[0m \u001b[43ma\u001b[49m\u001b[38;5;241;43m.\u001b[39;49m\u001b[43mitems\u001b[49m\u001b[43m(\u001b[49m\u001b[43m)\u001b[49m\u001b[43m[\u001b[49m\u001b[38;5;241;43m0\u001b[39;49m\u001b[43m]\u001b[49m\n",
      "\u001b[0;31mTypeError\u001b[0m: 'dict_items' object is not subscriptable"
     ]
    }
   ],
   "source": [
    "a.items()[0]"
   ]
  },
  {
   "cell_type": "code",
   "execution_count": 43,
   "metadata": {},
   "outputs": [],
   "source": [
    "b = np.zeros(3)"
   ]
  },
  {
   "cell_type": "code",
   "execution_count": 49,
   "metadata": {},
   "outputs": [],
   "source": [
    "b -= 2"
   ]
  },
  {
   "cell_type": "code",
   "execution_count": 50,
   "metadata": {},
   "outputs": [
    {
     "data": {
      "text/plain": [
       "array([2., 2., 2.])"
      ]
     },
     "execution_count": 50,
     "metadata": {},
     "output_type": "execute_result"
    }
   ],
   "source": [
    "np.absolute(b)"
   ]
  },
  {
   "cell_type": "code",
   "execution_count": 46,
   "metadata": {},
   "outputs": [
    {
     "data": {
      "text/plain": [
       "array([0., 0., 0.])"
      ]
     },
     "execution_count": 46,
     "metadata": {},
     "output_type": "execute_result"
    }
   ],
   "source": [
    "c"
   ]
  },
  {
   "cell_type": "code",
   "execution_count": 57,
   "metadata": {},
   "outputs": [],
   "source": [
    "# clean monitor directories\n",
    "outputsPath = \"./outputs/fwdFacingStep\"\n",
    "from os import walk\n",
    "# n = 1\n",
    "# for root, dirs, files in walk(to_absolute_path(\"./outputs/fwdFacingStep\")):\n",
    "#     print (\"n: \", n)\n",
    "#     print(\"root: \", root)\n",
    "#     print(\"dirs: \", dirs)\n",
    "#     print(\"files: \", files)\n",
    "    \n",
    "#     if root.split(\"/\")[-1] == \"monitors\":\n",
    "        \n",
    "    \n",
    "#     n += 1\n",
    "    \n",
    "# for name in files:\n",
    "    \n",
    "filePattern = \"*/monitors/*.csv\"\n",
    "filePaths = glob.glob(os.path.join(outputsPath, filePattern))\n",
    "for file_path in filePaths:\n",
    "    print(file_path)\n",
    "    # if \"_design_\" in file_path:\n",
    "    #     os.remove(file_path)"
   ]
  }
 ],
 "metadata": {
  "kernelspec": {
   "display_name": "Python 3",
   "language": "python",
   "name": "python3"
  },
  "language_info": {
   "codemirror_mode": {
    "name": "ipython",
    "version": 3
   },
   "file_extension": ".py",
   "mimetype": "text/x-python",
   "name": "python",
   "nbconvert_exporter": "python",
   "pygments_lexer": "ipython3",
   "version": "3.10.12"
  }
 },
 "nbformat": 4,
 "nbformat_minor": 2
}

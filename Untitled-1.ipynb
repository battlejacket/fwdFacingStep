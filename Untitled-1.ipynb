{
 "cells": [
  {
   "cell_type": "code",
   "execution_count": 1,
   "metadata": {},
   "outputs": [],
   "source": [
    "from modulus.sym.hydra import to_absolute_path\n",
    "from sympy import Symbol\n",
    "import os\n",
    "from parameterRangeContainer import parameterRangeContainer\n",
    "from csv_rw import csv_to_dict\n",
    "import numpy as np\n",
    "from modulus.sym.domain.validator import PointwiseValidator\n",
    "\n",
    "\n",
    "\n",
    "Re = Symbol(\"Re\")\n",
    "x, y = Symbol(\"x\"), Symbol(\"y\")\n",
    "Lo, Ho = Symbol(\"Lo\"), Symbol(\"Ho\")\n"
   ]
  },
  {
   "cell_type": "code",
   "execution_count": 4,
   "metadata": {},
   "outputs": [],
   "source": [
    "# ansysVarNames = (\"Pressure [ Pa ]\", \"Total Pressure [ Pa ]\", \"Velocity u [ m s^-1 ]\", \"Velocity v [ m s^-1 ]\", \"X [ m ]\", \"Y [ m ]\")\n",
    "# modulusVarNames = (\"p\", \"ptot\", \"u\", \"v\", \"x\", \"y\")\n",
    "# scales = ((0,1), (0,1), (0,1), (0,1), (0,1), (-0.5,-1))\n",
    "\n",
    "ansysVarNames = (\"Pressure\", \"Velocity:0\", \"Velocity:1\", \"Points:0\", \"Points:1\")\n",
    "modulusVarNames = (\"p\", \"u\", \"v\", \"x\", \"y\")\n",
    "scales = ((0,1), (0,1), (0,-1), (0,1), (-0.5,-1))\n",
    "\n",
    "# for root, dirs, files in os.walk(to_absolute_path(\"./ansys/validators\")):\n",
    "#     for name in files:\n",
    "#         print(os.path.join(root, name))\n",
    "file_path = \"ansys/validators/test.csv\"\n",
    "if os.path.exists(to_absolute_path(file_path)):\n",
    "    mapping = {}\n",
    "    for ansVarName, modulusVarName in zip(ansysVarNames, modulusVarNames):\n",
    "        mapping[ansVarName] = modulusVarName\n",
    "\n",
    "    openfoam_var = csv_to_dict(to_absolute_path(file_path), mapping, skiprows=1)"
   ]
  },
  {
   "cell_type": "code",
   "execution_count": 5,
   "metadata": {},
   "outputs": [
    {
     "data": {
      "text/plain": [
       "{'x': array([[-0.053878],\n",
       "        [-0.028958],\n",
       "        [-0.046033],\n",
       "        ...,\n",
       "        [11.952   ],\n",
       "        [12.      ],\n",
       "        [12.      ]]),\n",
       " 'y': array([[ 9.6232e-01],\n",
       "        [ 9.7104e-01],\n",
       "        [ 9.7104e-01],\n",
       "        ...,\n",
       "        [-1.9501e-18],\n",
       "        [ 0.0000e+00],\n",
       "        [ 0.0000e+00]]),\n",
       " 'p': array([[2.5465 ],\n",
       "        [2.5467 ],\n",
       "        [2.5466 ],\n",
       "        ...,\n",
       "        [0.00329],\n",
       "        [0.     ],\n",
       "        [0.     ]]),\n",
       " 'u': array([[-0.011104 ],\n",
       "        [-0.0038265],\n",
       "        [-0.0077447],\n",
       "        ...,\n",
       "        [ 0.       ],\n",
       "        [ 0.       ],\n",
       "        [ 0.       ]]),\n",
       " 'v': array([[0.0063928],\n",
       "        [0.0038946],\n",
       "        [0.0042685],\n",
       "        ...,\n",
       "        [0.       ],\n",
       "        [0.       ],\n",
       "        [0.       ]])}"
      ]
     },
     "execution_count": 5,
     "metadata": {},
     "output_type": "execute_result"
    }
   ],
   "source": [
    "openfoam_var"
   ]
  }
 ],
 "metadata": {
  "kernelspec": {
   "display_name": "Python 3",
   "language": "python",
   "name": "python3"
  },
  "language_info": {
   "codemirror_mode": {
    "name": "ipython",
    "version": 3
   },
   "file_extension": ".py",
   "mimetype": "text/x-python",
   "name": "python",
   "nbconvert_exporter": "python",
   "pygments_lexer": "ipython3",
   "version": "3.10.12"
  }
 },
 "nbformat": 4,
 "nbformat_minor": 2
}
